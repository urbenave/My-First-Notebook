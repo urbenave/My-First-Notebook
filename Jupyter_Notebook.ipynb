{
 "cells": [
  {
   "cell_type": "markdown",
   "metadata": {},
   "source": [
    "<center>\n",
    "    <img src=\"https://cf-courses-data.s3.us.cloud-object-storage.appdomain.cloud/IBMDeveloperSkillsNetwork-DS0105EN-SkillsNetwork/labs/Module2/images/SN_web_lightmode.png\" width=\"300\" alt=\"cognitiveclass.ai logo\">\n",
    "</center>\n"
   ]
  },
  {
   "cell_type": "markdown",
   "metadata": {},
   "source": [
    "<h1>Andre's Notebook</h1>"
   ]
  },
  {
   "cell_type": "markdown",
   "metadata": {},
   "source": [
    "This Notebook was created as a Peer Graded Assignment for the Tools for Data Science Course on Coursera"
   ]
  },
  {
   "cell_type": "markdown",
   "metadata": {},
   "source": [
    "<h2>The most used languages used in Data Science are:</h2>\n",
    "<p>Python\n",
    "<p>R\n",
    "<p>SQL\n",
    "<p>Scala\n",
    "<p>Java\n",
    "<p>C++\n",
    "<p>Julia\n",
    "<p>JavaScript\n",
    "<p>PHP\n",
    "<p>Go\n",
    "<p>Ruby\n",
    "<p>Visual Basic</p>"
   ]
  },
  {
   "cell_type": "markdown",
   "metadata": {},
   "source": [
    "<h2>Some well-known Data Science libraries in Python are:</h2>\n",
    "<p> - Pandas\n",
    "<p> - Numpy\n",
    "<p> - Matplotlib\n",
    "<p> - Seaborn\n",
    "<p> - Scikit-learn\n",
    "<p> - Keras\n",
    "<p> - TensorFlow\n",
    "<p> - PyTorch\n",
    "<p> - Apache Spark\n",
    "<p> - Vegas\n",
    "<p> - Big DL\n",
    "<p> - Ggplot2\n",
    "    "
   ]
  },
  {
   "cell_type": "markdown",
   "metadata": {},
   "source": [
    "| DAta Science Tools |\n",
    "| :- | \n",
    "|Anaconda | \n",
    "|R Studio | \n",
    "|Spyder  | \n",
    "|Jupyter Notebooks | \n"
   ]
  },
  {
   "cell_type": "markdown",
   "metadata": {},
   "source": [
    "We can see below an arithmetic expression and a code that can convert minutes to hours, both written in Python:"
   ]
  },
  {
   "cell_type": "code",
   "execution_count": 1,
   "metadata": {},
   "outputs": [
    {
     "data": {
      "text/plain": [
       "152"
      ]
     },
     "execution_count": 1,
     "metadata": {},
     "output_type": "execute_result"
    }
   ],
   "source": [
    "#This code adds and multiplies some numbers\n",
    "(15+4)*8"
   ]
  },
  {
   "cell_type": "code",
   "execution_count": 3,
   "metadata": {},
   "outputs": [
    {
     "name": "stdout",
     "output_type": "stream",
     "text": [
      "200 minutes are equivalent to 3.3333333333333335 hours\n"
     ]
    }
   ],
   "source": [
    "#This code trnasforms minutes to hours\n",
    "inminutes = 200\n",
    "inhours = inminutes/60\n",
    "print (inminutes, \"minutes are equivalent to\",inhours,\"hours\")"
   ]
  },
  {
   "cell_type": "markdown",
   "metadata": {
    "tags": []
   },
   "source": [
    "<h2>Objectives</h2>\n",
    "<p> - Add Comments to code cells\n",
    "<p> - Create markdown cells\n",
    "<p> - Add ordered lists to cells\n",
    "<p> - Add unordered lists to cells\n",
    "<p> - Format content with heading styles"
   ]
  },
  {
   "cell_type": "markdown",
   "metadata": {},
   "source": [
    "<h2>Author: </h2>\n",
    "André Albano de Souza"
   ]
  }
 ],
 "metadata": {
  "kernelspec": {
   "display_name": "Python",
   "language": "python",
   "name": "conda-env-python-py"
  },
  "language_info": {
   "codemirror_mode": {
    "name": "ipython",
    "version": 3
   },
   "file_extension": ".py",
   "mimetype": "text/x-python",
   "name": "python",
   "nbconvert_exporter": "python",
   "pygments_lexer": "ipython3",
   "version": "3.7.12"
  }
 },
 "nbformat": 4,
 "nbformat_minor": 4
}
